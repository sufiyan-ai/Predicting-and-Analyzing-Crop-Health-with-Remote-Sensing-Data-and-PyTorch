{
 "cells": [
  {
   "cell_type": "code",
   "execution_count": 21,
   "id": "efb013cc-9a64-4842-8a87-6aa4da6c261f",
   "metadata": {},
   "outputs": [],
   "source": [
    "import rasterio\n",
    "import numpy as np\n",
    "import rasterstats as rs\n",
    "import pandas as pd\n",
    "from sklearn.preprocessing import StandardScaler\n",
    "import geopandas as gpd\n",
    "import torch\n",
    "import matplotlib.pyplot as plt\n",
    "import seaborn as sns\n",
    "from sklearn.model_selection import train_test_split\n",
    "from sklearn.metrics import confusion_matrix,accuracy_score,precision_score,recall_score,f1_score,roc_auc_score\n",
    "import torch.nn as nn\n",
    "import torch.optim as optim\n",
    "from torch.utils.data import DataLoader,TensorDataset"
   ]
  },
  {
   "cell_type": "code",
   "execution_count": 22,
   "id": "eca4471d-97ec-4d8e-a3d8-5d27e8351640",
   "metadata": {},
   "outputs": [],
   "source": [
    "# Loading raster data\n",
    "# Load DEM (Digital Elevation Model), orthophoto (multi-band), and DTM (Digital Terrain Model) using rasterio\n",
    "dem=rasterio.open('data/dem.tif')\n",
    "ortho=rasterio.open('data/ortho.tif')\n",
    "dtm=rasterio.open('data/dtm.tif')"
   ]
  },
  {
   "cell_type": "code",
   "execution_count": 23,
   "id": "433a4702-0988-42a8-8c55-1adee17996f9",
   "metadata": {},
   "outputs": [],
   "source": [
    "# Reading arrays from raster data\n",
    "# Reading the first band for DEM and DTM, and the first six bands for orthophoto\n",
    "dem_arr=dem.read(1)\n",
    "ortho_arr=ortho.read([1,2,3,4,5,6])# R,G,B,NIR,RedEdge,Thermal\n",
    "dtm_arr=dtm.read(1)"
   ]
  },
  {
   "cell_type": "code",
   "execution_count": 24,
   "id": "82e3eeb1-4a02-4bb6-bcde-6769415c7832",
   "metadata": {},
   "outputs": [],
   "source": [
    "# now loading vector data\n",
    "# loading shapefiles data containing plot data\n",
    "plots_1=gpd.read_file('data/plots_1.shp')\n",
    "plots_2=gpd.read_file('data/plots_2.shp')"
   ]
  },
  {
   "cell_type": "code",
   "execution_count": 25,
   "id": "3b4c304a-b8c4-47f5-9f13-1b216ac1718c",
   "metadata": {},
   "outputs": [],
   "source": [
    "# Masking invalid data to nan\n",
    "# Seting invalid elevation and thermal values to nan\n",
    "elevation=np.where(dem_arr<= 0,np.nan,dem_arr)\n",
    "masked_thermal=np.where(ortho_arr[5]<=0,np.nan,ortho_arr[5]/100-273.15)# Convert to Celsius\n",
    "\n",
    "# Generate NDVI (Normalized Difference Vegetation Index) with error handling\n",
    "# NDVI=(NIR - Red)/(NIR + Red)\n",
    "with np.errstate(divide='ignore',invalid='ignore'):\n",
    "    ndvi=(ortho_arr[3]-ortho_arr[0])/(ortho_arr[3]+ortho_arr[0])\n",
    "    ndvi=np.where(np.isnan(ndvi), 0, ndvi)\n",
    "\n",
    "# Compute zonal statistics for each plot\n",
    "# This function calculates the mean of the raster data within each plot geometry\n",
    "def compute_zonal_stats(plots,data,affine):\n",
    "    plot_zs=rs.zonal_stats(plots,data,affine=affine,stats=\"mean\",nodata=np.nan,geojson_out=True)\n",
    "    return gpd.GeoDataFrame.from_features(plot_zs)"
   ]
  },
  {
   "cell_type": "code",
   "execution_count": 26,
   "id": "6587eb30-ec25-46c4-85db-50221fab2695",
   "metadata": {},
   "outputs": [
    {
     "name": "stdout",
     "output_type": "stream",
     "text": [
      "Class distribution:\n",
      "synthetic_target\n",
      "0    78\n",
      "1    54\n",
      "Name: count, dtype: int64\n"
     ]
    }
   ],
   "source": [
    "# Calculate mean NDVI, thermal, elevation, and DTM values for each plot\n",
    "plots_1['NDVI_mean']=compute_zonal_stats(plots_1, ndvi,dem.transform)['mean']\n",
    "plots_1['thermal_mean']=compute_zonal_stats(plots_1,masked_thermal,dem.transform)['mean']\n",
    "plots_1['elevation_mean']=compute_zonal_stats(plots_1,elevation,dem.transform)['mean']\n",
    "plots_1['dtm_mean']=compute_zonal_stats(plots_1, dtm_arr,dem.transform)['mean']\n",
    "\n",
    "# Data preparation\n",
    "# Drop NaN values and prepare feature matrix for model training\n",
    "plots_1 = plots_1.dropna()\n",
    "features = plots_1[['NDVI_mean','thermal_mean','elevation_mean','dtm_mean']]\n",
    "\n",
    "# Create a synthetic target variable focusing on healthy crops\n",
    "# Define healthy crops based on NDVI values between 0.4 and 0.8\n",
    "healthy_mask = (plots_1['NDVI_mean']>= 0.4) & (plots_1['NDVI_mean']<= 0.8)\n",
    "plots_1['synthetic_target'] = np.where(healthy_mask, 1, 0)  # Healthy crops = 1, Others = 0\n",
    "\n",
    "# Checking data balance\n",
    "# Printing class distribution to check for imbalance\n",
    "class_counts =plots_1['synthetic_target'].value_counts()\n",
    "print(f\"Class distribution:\\n{class_counts}\")\n",
    "\n",
    "# Handle data imbalance by undersampling the majority class\n",
    "from sklearn.utils import resample\n",
    "\n",
    "# Separate majority and minority classes\n",
    "# This variable indicates whether a crop is healthy (1) or not (0).\n",
    "minority_class=plots_1[plots_1['synthetic_target']==1]\n",
    "majority_class=plots_1[plots_1['synthetic_target']==0]\n",
    "\n",
    "# Resample majority class to match the minority class size\n",
    "majority_class_downsampled=resample(majority_class,\n",
    "                                      replace=False,\n",
    "                                      n_samples=len(minority_class),\n",
    "                                      random_state=42)\n",
    "balanced_data = pd.concat([minority_class,majority_class_downsampled])\n",
    "\n",
    "# Reassign features and target from the balanced data\n",
    "features=balanced_data[['NDVI_mean', 'thermal_mean','elevation_mean','dtm_mean']]\n",
    "target=balanced_data['synthetic_target']\n",
    "\n",
    "# Split data into training and testing sets\n",
    "X_train,X_test,y_train,y_test=train_test_split(features,target,test_size=0.2,random_state=42)\n",
    "\n",
    "# Standardize data\n",
    "# Standardize features to have zero mean and unit variance\n",
    "scaler=StandardScaler()\n",
    "X_train=scaler.fit_transform(X_train)\n",
    "X_test=scaler.transform(X_test)"
   ]
  },
  {
   "cell_type": "code",
   "execution_count": 27,
   "id": "14984585-64e6-47dc-90f4-20e704537346",
   "metadata": {},
   "outputs": [
    {
     "name": "stdout",
     "output_type": "stream",
     "text": [
      "Epoch10/100,Loss:0.3340\n",
      "Epoch20/100,Loss:0.1654\n",
      "Epoch30/100,Loss:0.1214\n",
      "Epoch40/100,Loss:0.0756\n",
      "Epoch50/100,Loss:0.0785\n",
      "Epoch60/100,Loss:0.0613\n",
      "Epoch70/100,Loss:0.0878\n",
      "Epoch80/100,Loss:0.0509\n",
      "Epoch90/100,Loss:0.0375\n",
      "Epoch100/100,Loss:0.0595\n"
     ]
    },
    {
     "data": {
      "text/plain": [
       "NeuralNet(\n",
       "  (fc1): Linear(in_features=4, out_features=128, bias=True)\n",
       "  (dropout1): Dropout(p=0.3, inplace=False)\n",
       "  (fc2): Linear(in_features=128, out_features=64, bias=True)\n",
       "  (dropout2): Dropout(p=0.3, inplace=False)\n",
       "  (fc3): Linear(in_features=64, out_features=1, bias=True)\n",
       "  (sigmoid): Sigmoid()\n",
       ")"
      ]
     },
     "execution_count": 27,
     "metadata": {},
     "output_type": "execute_result"
    }
   ],
   "source": [
    "# Data preparation remains unchanged\n",
    "# ... (loading raster and vector data, computing NDVI, handling NaNs, creating balanced data, etc.)\n",
    "\n",
    "# Convert data to PyTorch tensors\n",
    "X_train_tensor =torch.tensor(X_train, dtype=torch.float32)\n",
    "X_test_tensor = torch.tensor(X_test, dtype=torch.float32)\n",
    "y_train_tensor= torch.tensor(y_train.values, dtype=torch.float32).unsqueeze(1)  # Unsqueeze for compatibility\n",
    "y_test_tensor= torch.tensor(y_test.values,dtype=torch.float32).unsqueeze(1)\n",
    "\n",
    "# Create DataLoader for training data\n",
    "train_dataset=TensorDataset(X_train_tensor,y_train_tensor)\n",
    "train_loader=DataLoader(train_dataset,batch_size=32,shuffle=True)\n",
    "\n",
    "# Defining the neural network model using PyTorch\n",
    "class NeuralNet(nn.Module):\n",
    "    def __init__(self):\n",
    "        super(NeuralNet,self).__init__()\n",
    "        self.fc1=nn.Linear(X_train.shape[1],128)\n",
    "        self.dropout1=nn.Dropout(0.3)\n",
    "        self.fc2=nn.Linear(128, 64)\n",
    "        self.dropout2=nn.Dropout(0.3)\n",
    "        self.fc3= nn.Linear(64, 1)\n",
    "        self.sigmoid=nn.Sigmoid()\n",
    "\n",
    "    def forward(self, x):\n",
    "        x=torch.relu(self.fc1(x))\n",
    "        x=self.dropout1(x)\n",
    "        x=torch.relu(self.fc2(x))\n",
    "        x=self.dropout2(x)\n",
    "        x=self.sigmoid(self.fc3(x))\n",
    "        return x\n",
    "\n",
    "# Instantiate the model, define the loss function and optimizer\n",
    "model=NeuralNet()\n",
    "criterion=nn.BCELoss()  # Binary Cross-Entropy Loss\n",
    "optimizer=optim.Adam(model.parameters(),lr=0.001)\n",
    "\n",
    "# Train the model\n",
    "epochs=100\n",
    "for epoch in range(epochs):\n",
    "    model.train()\n",
    "    epoch_loss = 0\n",
    "    for X_batch,y_batch in train_loader:\n",
    "        optimizer.zero_grad()\n",
    "        outputs=model(X_batch)\n",
    "        loss=criterion(outputs,y_batch)\n",
    "        loss.backward()\n",
    "        optimizer.step()\n",
    "        epoch_loss+=loss.item()\n",
    "    if (epoch+1)%10==0:\n",
    "        print(f\"Epoch{epoch+ 1}/{epochs},Loss:{epoch_loss/len(train_loader):.4f}\")\n",
    "\n",
    "model.eval()"
   ]
  },
  {
   "cell_type": "code",
   "execution_count": 29,
   "id": "b2ab3fa5-f4ae-424f-9019-7a4f0b33576d",
   "metadata": {},
   "outputs": [
    {
     "name": "stdout",
     "output_type": "stream",
     "text": [
      "Accuracy Score: 0.9545454545454546\n",
      "Precision Score: 1.0\n",
      "Recall Score: 0.9\n",
      "F1 Score: 0.9473684210526315\n",
      "ROC AUC Score: 1.0\n"
     ]
    }
   ],
   "source": [
    "# Converting predictions to Numpy\n",
    "predictions_binary_np=predictions_binary.numpy()\n",
    "\n",
    "# Ensure y_test is a Numpy array\n",
    "if not isinstance(y_test,np.ndarray):\n",
    "    y_test=y_test.to_numpy()\n",
    "\n",
    "# Evaluation metrics\n",
    "accuracy_score_val=accuracy_score(y_test, predictions_binary_np)\n",
    "precision_score_val=precision_score(y_test, predictions_binary_np)\n",
    "recall_score_val=recall_score(y_test, predictions_binary_np)\n",
    "f1_score_val=f1_score(y_test,predictions_binary_np)\n",
    "roc_auc_score_val=roc_auc_score(y_test, predictions.detach().numpy())\n",
    "\n",
    "print(f\"Accuracy Score: {accuracy_score_val}\")\n",
    "print(f\"Precision Score: {precision_score_val}\")\n",
    "print(f\"Recall Score: {recall_score_val}\")\n",
    "print(f\"F1 Score: {f1_score_val}\")\n",
    "print(f\"ROC AUC Score: {roc_auc_score_val}\")"
   ]
  },
  {
   "cell_type": "code",
   "execution_count": 30,
   "id": "a951a45f-8d93-4801-9eb2-bd527f06f288",
   "metadata": {},
   "outputs": [
    {
     "data": {
      "image/png": "[encoded data removed]",
      "text/plain": [
       "<Figure size 800x600 with 2 Axes>"
      ]
     },
     "metadata": {},
     "output_type": "display_data"
    }
   ],
   "source": [
    "# Plot the confusion matrix\n",
    "conf_matrix=confusion_matrix(y_test,predictions_binary)\n",
    "plt.figure(figsize=(8,6))\n",
    "sns.heatmap(conf_matrix, annot=True, fmt='d',cmap='Blues',\n",
    "            xticklabels=['Predicted Negative','Predicted Positive'],\n",
    "            yticklabels=['Actual Negative','Actual Positive'])\n",
    "plt.xlabel('Predicted')\n",
    "plt.ylabel('Actual')\n",
    "plt.title('Confusion Matrix')\n",
    "plt.show()"
   ]
  },
  {
   "cell_type": "code",
   "execution_count": null,
   "id": "fae27aef-d090-4edc-b531-3e350a1f398e",
   "metadata": {},
   "outputs": [],
   "source": []
  }
 ],
 "metadata": {
  "kernelspec": {
   "display_name": "Python 3 (ipykernel)",
   "language": "python",
   "name": "python3"
  },
  "language_info": {
   "codemirror_mode": {
    "name": "ipython",
    "version": 3
   },
   "file_extension": ".py",
   "mimetype": "text/x-python",
   "name": "python",
   "nbconvert_exporter": "python",
   "pygments_lexer": "ipython3",
   "version": "3.10.0"
  }
 },
 "nbformat": 4,
 "nbformat_minor": 5
}
